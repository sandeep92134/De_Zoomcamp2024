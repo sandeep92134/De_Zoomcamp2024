{
 "cells": [
  {
   "cell_type": "code",
   "execution_count": 1,
   "id": "cf5a9be6-eb28-4c55-a432-7cdb16d2db6a",
   "metadata": {},
   "outputs": [],
   "source": [
    "import pandas as pd"
   ]
  },
  {
   "cell_type": "code",
   "execution_count": 2,
   "id": "890c3900-70a9-49ad-8510-a296eae75c91",
   "metadata": {},
   "outputs": [],
   "source": [
    "parquet_file = 'data/yellow_tripdata_2023-02.parquet'\n",
    "df = pd.read_parquet(parquet_file, engine = 'pyarrow')\n",
    "df.to_csv(parquet_file.replace('parquet', 'csv.gz'), index=False, compression='gzip')"
   ]
  },
  {
   "cell_type": "code",
   "execution_count": 3,
   "id": "d67a95f8-dac3-4c27-845a-4d6f66000e7f",
   "metadata": {},
   "outputs": [],
   "source": [
    "parquet_file = 'data/yellow_tripdata_2023-03.parquet'\n",
    "df = pd.read_parquet(parquet_file, engine = 'pyarrow')\n",
    "df.to_csv(parquet_file.replace('parquet', 'csv.gz'), index=False, compression='gzip')"
   ]
  },
  {
   "cell_type": "code",
   "execution_count": 4,
   "id": "03df1762-dd60-44c5-b2db-8d22e9247a68",
   "metadata": {},
   "outputs": [],
   "source": [
    "parquet_file = 'data/yellow_tripdata_2023-01.parquet'\n",
    "df = pd.read_parquet(parquet_file, engine = 'pyarrow')\n",
    "df.to_csv(parquet_file.replace('parquet', 'csv.gz'), index=False, compression='gzip')"
   ]
  },
  {
   "cell_type": "code",
   "execution_count": 5,
   "id": "f6e335f8-8297-434e-bf80-defded2a2a4e",
   "metadata": {},
   "outputs": [],
   "source": [
    "parquet_file = 'data/green_tripdata_2023-01.parquet'\n",
    "df = pd.read_parquet(parquet_file, engine = 'pyarrow')\n",
    "df.to_csv(parquet_file.replace('parquet', 'csv.gz'), index=False, compression='gzip')"
   ]
  },
  {
   "cell_type": "code",
   "execution_count": 6,
   "id": "81a5e84b-f01a-48ba-a0eb-14249bd7b5bb",
   "metadata": {},
   "outputs": [],
   "source": [
    "parquet_file = 'data/green_tripdata_2023-02.parquet'\n",
    "df = pd.read_parquet(parquet_file, engine = 'pyarrow')\n",
    "df.to_csv(parquet_file.replace('parquet', 'csv.gz'), index=False, compression='gzip')"
   ]
  },
  {
   "cell_type": "code",
   "execution_count": 7,
   "id": "46262531-ba51-48e7-ab47-eed1abedfcfe",
   "metadata": {},
   "outputs": [],
   "source": [
    "parquet_file = 'data/green_tripdata_2023-03.parquet'\n",
    "df = pd.read_parquet(parquet_file, engine = 'pyarrow')\n",
    "df.to_csv(parquet_file.replace('parquet', 'csv.gz'), index=False, compression='gzip')"
   ]
  },
  {
   "cell_type": "code",
   "execution_count": null,
   "id": "b9154088-6e5d-44b2-b0bc-59e5025c8326",
   "metadata": {},
   "outputs": [],
   "source": [
    "parquet_file = 'data/fhvhv_tripdata_2023-01.parquet'\n",
    "df = pd.read_parquet(parquet_file, engine = 'pyarrow')\n",
    "df.to_csv(parquet_file.replace('parquet', 'csv.gz'), index=False, compression='gzip')"
   ]
  },
  {
   "cell_type": "code",
   "execution_count": null,
   "id": "a8d2d788-7f1c-4962-bc50-d56bf65f14b6",
   "metadata": {},
   "outputs": [],
   "source": [
    "parquet_file = 'data/fhvhv_tripdata_2023-02.parquet'\n",
    "df = pd.read_parquet(parquet_file, engine = 'pyarrow')\n",
    "df.to_csv(parquet_file.replace('parquet', 'csv.gz'), index=False, compression='gzip')"
   ]
  },
  {
   "cell_type": "code",
   "execution_count": null,
   "id": "c315b04a-6c94-490d-a973-1c4c4743c897",
   "metadata": {},
   "outputs": [],
   "source": [
    "parquet_file = 'data/fhvhv_tripdata_2023-03.parquet'\n",
    "df = pd.read_parquet(parquet_file, engine = 'pyarrow')\n",
    "df.to_csv(parquet_file.replace('parquet', 'csv.gz'), index=False, compression='gzip')"
   ]
  },
  {
   "cell_type": "code",
   "execution_count": null,
   "id": "685d9020-0b42-42d0-8353-8ed8fe5f5139",
   "metadata": {},
   "outputs": [],
   "source": []
  }
 ],
 "metadata": {
  "kernelspec": {
   "display_name": "Python 3 (ipykernel)",
   "language": "python",
   "name": "python3"
  },
  "language_info": {
   "codemirror_mode": {
    "name": "ipython",
    "version": 3
   },
   "file_extension": ".py",
   "mimetype": "text/x-python",
   "name": "python",
   "nbconvert_exporter": "python",
   "pygments_lexer": "ipython3",
   "version": "3.9.18"
  }
 },
 "nbformat": 4,
 "nbformat_minor": 5
}
